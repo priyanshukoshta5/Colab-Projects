{
  "nbformat": 4,
  "nbformat_minor": 0,
  "metadata": {
    "colab": {
      "provenance": [],
      "authorship_tag": "ABX9TyPwh4/OLNabCZeO5WubsJ32",
      "include_colab_link": true
    },
    "kernelspec": {
      "name": "python3",
      "display_name": "Python 3"
    },
    "language_info": {
      "name": "python"
    }
  },
  "cells": [
    {
      "cell_type": "markdown",
      "metadata": {
        "id": "view-in-github",
        "colab_type": "text"
      },
      "source": [
        "<a href=\"https://colab.research.google.com/github/priyanshukoshta5/Colab-Projects/blob/main/DL_Practical_6_Sparse_Autoencoder.ipynb\" target=\"_parent\"><img src=\"https://colab.research.google.com/assets/colab-badge.svg\" alt=\"Open In Colab\"/></a>"
      ]
    },
    {
      "cell_type": "code",
      "source": [
        "from tqdm import tqdm\n",
        "\n",
        "for i in tqdm(range(int(10000000))):\n",
        "    pass"
      ],
      "metadata": {
        "colab": {
          "base_uri": "https://localhost:8080/"
        },
        "id": "IiU02zo52qyo",
        "outputId": "9b74793f-c752-4c26-a74f-5e354e34a102"
      },
      "execution_count": null,
      "outputs": [
        {
          "output_type": "stream",
          "name": "stderr",
          "text": [
            "100%|██████████| 10000000/10000000 [00:08<00:00, 1188744.76it/s]\n"
          ]
        }
      ]
    },
    {
      "cell_type": "code",
      "source": [],
      "metadata": {
        "id": "_5uhzl5y3e_s"
      },
      "execution_count": null,
      "outputs": []
    },
    {
      "cell_type": "code",
      "execution_count": null,
      "metadata": {
        "id": "A860dicrTTvK"
      },
      "outputs": [],
      "source": [
        "import pandas as pd\n",
        "import numpy as np\n",
        "import matplotlib.pyplot as plt\n",
        "import seaborn as sns"
      ]
    },
    {
      "cell_type": "code",
      "source": [
        "from keras.datasets import mnist\n",
        "\n",
        "(X_train, y_train),(X_test, y_test) = mnist.load_data()"
      ],
      "metadata": {
        "colab": {
          "base_uri": "https://localhost:8080/"
        },
        "id": "TcJ6gHXXThxw",
        "outputId": "e313c0d2-dd92-4703-8b90-b7a0d70b20bf"
      },
      "execution_count": null,
      "outputs": [
        {
          "output_type": "stream",
          "name": "stdout",
          "text": [
            "Downloading data from https://storage.googleapis.com/tensorflow/tf-keras-datasets/mnist.npz\n",
            "11490434/11490434 [==============================] - 0s 0us/step\n"
          ]
        }
      ]
    },
    {
      "cell_type": "code",
      "source": [
        "X_train.shape"
      ],
      "metadata": {
        "colab": {
          "base_uri": "https://localhost:8080/"
        },
        "id": "4zoqkGpDUCxO",
        "outputId": "bdb8bd56-184a-4276-b3f3-b87715f975a0"
      },
      "execution_count": null,
      "outputs": [
        {
          "output_type": "execute_result",
          "data": {
            "text/plain": [
              "(60000, 28, 28)"
            ]
          },
          "metadata": {},
          "execution_count": 3
        }
      ]
    },
    {
      "cell_type": "code",
      "source": [
        "X_test.shape"
      ],
      "metadata": {
        "colab": {
          "base_uri": "https://localhost:8080/"
        },
        "id": "StRGe63nUEKJ",
        "outputId": "8009ee3f-99c8-43d8-89fd-b762c0541e23"
      },
      "execution_count": null,
      "outputs": [
        {
          "output_type": "execute_result",
          "data": {
            "text/plain": [
              "(10000, 28, 28)"
            ]
          },
          "metadata": {},
          "execution_count": 4
        }
      ]
    },
    {
      "cell_type": "code",
      "source": [
        "X_train = X_train/255\n",
        "X_test = X_test/255"
      ],
      "metadata": {
        "id": "6lI-4LAATh0L"
      },
      "execution_count": null,
      "outputs": []
    },
    {
      "cell_type": "code",
      "source": [],
      "metadata": {
        "id": "OxzL1HooUJxU"
      },
      "execution_count": null,
      "outputs": []
    },
    {
      "cell_type": "code",
      "source": [
        "import keras\n",
        "from keras.models import Sequential\n",
        "from keras.layers import Dense, Flatten, Reshape, ActivityRegularization"
      ],
      "metadata": {
        "id": "c93m6q4LVFY_"
      },
      "execution_count": null,
      "outputs": []
    },
    {
      "cell_type": "code",
      "source": [
        "sparse_encoder = Sequential([\n",
        "                    Flatten(input_shape = (28,28)),\n",
        "                    Dense(128, activation = 'selu'),\n",
        "                    Dense(32, activation = 'selu'),\n",
        "                    ActivityRegularization(l1=1e-3)\n",
        "])"
      ],
      "metadata": {
        "id": "JEYqSn3GU7CJ"
      },
      "execution_count": null,
      "outputs": []
    },
    {
      "cell_type": "code",
      "source": [
        "sparse_decoder = Sequential([\n",
        "                    Dense(128, activation = 'selu', input_shape = (32, )),\n",
        "                    Dense(28*28, activation = 'sigmoid'),\n",
        "                    Reshape([28, 28])\n",
        "])"
      ],
      "metadata": {
        "id": "zqnpUTcWs72x"
      },
      "execution_count": null,
      "outputs": []
    },
    {
      "cell_type": "code",
      "source": [
        "sparse_autoencoder = Sequential([sparse_encoder, sparse_decoder])"
      ],
      "metadata": {
        "id": "7ow2vOUFUJ0O"
      },
      "execution_count": null,
      "outputs": []
    },
    {
      "cell_type": "code",
      "source": [
        "sparse_autoencoder.compile(loss = 'binary_crossentropy', optimizer = keras.optimizers.SGD(lr=.1))"
      ],
      "metadata": {
        "id": "39qCBToyTwKU",
        "colab": {
          "base_uri": "https://localhost:8080/"
        },
        "outputId": "344261ce-409c-4555-d436-14cdf8e46caa"
      },
      "execution_count": null,
      "outputs": [
        {
          "output_type": "stream",
          "name": "stderr",
          "text": [
            "/usr/local/lib/python3.8/dist-packages/keras/optimizers/optimizer_v2/gradient_descent.py:114: UserWarning: The `lr` argument is deprecated, use `learning_rate` instead.\n",
            "  super().__init__(name, **kwargs)\n"
          ]
        }
      ]
    },
    {
      "cell_type": "code",
      "source": [
        "history  =  sparse_autoencoder.fit(X_train, X_train, epochs = 30, validation_data = (X_test, X_test))"
      ],
      "metadata": {
        "colab": {
          "base_uri": "https://localhost:8080/"
        },
        "id": "jjMjX-Iht1v3",
        "outputId": "5b429c69-b810-42c0-965c-2d2a68767e32"
      },
      "execution_count": null,
      "outputs": [
        {
          "output_type": "stream",
          "name": "stdout",
          "text": [
            "Epoch 1/30\n",
            "1875/1875 [==============================] - 13s 6ms/step - loss: 0.3413 - val_loss: 0.2813\n",
            "Epoch 2/30\n",
            "1875/1875 [==============================] - 15s 8ms/step - loss: 0.2688 - val_loss: 0.2567\n",
            "Epoch 3/30\n",
            "1875/1875 [==============================] - 12s 6ms/step - loss: 0.2475 - val_loss: 0.2362\n",
            "Epoch 4/30\n",
            "1875/1875 [==============================] - 13s 7ms/step - loss: 0.2282 - val_loss: 0.2192\n",
            "Epoch 5/30\n",
            "1875/1875 [==============================] - 13s 7ms/step - loss: 0.2147 - val_loss: 0.2080\n",
            "Epoch 6/30\n",
            "1875/1875 [==============================] - 13s 7ms/step - loss: 0.2047 - val_loss: 0.1988\n",
            "Epoch 7/30\n",
            "1875/1875 [==============================] - 14s 7ms/step - loss: 0.1964 - val_loss: 0.1912\n",
            "Epoch 8/30\n",
            "1875/1875 [==============================] - 14s 7ms/step - loss: 0.1897 - val_loss: 0.1853\n",
            "Epoch 9/30\n",
            "1875/1875 [==============================] - 12s 7ms/step - loss: 0.1843 - val_loss: 0.1804\n",
            "Epoch 10/30\n",
            "1875/1875 [==============================] - 12s 6ms/step - loss: 0.1798 - val_loss: 0.1762\n",
            "Epoch 11/30\n",
            "1875/1875 [==============================] - 12s 6ms/step - loss: 0.1759 - val_loss: 0.1725\n",
            "Epoch 12/30\n",
            "1875/1875 [==============================] - 13s 7ms/step - loss: 0.1723 - val_loss: 0.1691\n",
            "Epoch 13/30\n",
            "1875/1875 [==============================] - 16s 9ms/step - loss: 0.1690 - val_loss: 0.1659\n",
            "Epoch 14/30\n",
            "1875/1875 [==============================] - 14s 8ms/step - loss: 0.1660 - val_loss: 0.1630\n",
            "Epoch 15/30\n",
            "1875/1875 [==============================] - 13s 7ms/step - loss: 0.1631 - val_loss: 0.1602\n",
            "Epoch 16/30\n",
            "1875/1875 [==============================] - 12s 7ms/step - loss: 0.1605 - val_loss: 0.1576\n",
            "Epoch 17/30\n",
            "1875/1875 [==============================] - 12s 6ms/step - loss: 0.1580 - val_loss: 0.1552\n",
            "Epoch 18/30\n",
            "1875/1875 [==============================] - 13s 7ms/step - loss: 0.1557 - val_loss: 0.1530\n",
            "Epoch 19/30\n",
            "1875/1875 [==============================] - 12s 6ms/step - loss: 0.1536 - val_loss: 0.1510\n",
            "Epoch 20/30\n",
            "1875/1875 [==============================] - 12s 6ms/step - loss: 0.1517 - val_loss: 0.1492\n",
            "Epoch 21/30\n",
            "1875/1875 [==============================] - 13s 7ms/step - loss: 0.1500 - val_loss: 0.1475\n",
            "Epoch 22/30\n",
            "1875/1875 [==============================] - 12s 6ms/step - loss: 0.1483 - val_loss: 0.1459\n",
            "Epoch 23/30\n",
            "1875/1875 [==============================] - 12s 7ms/step - loss: 0.1468 - val_loss: 0.1444\n",
            "Epoch 24/30\n",
            "1875/1875 [==============================] - 13s 7ms/step - loss: 0.1454 - val_loss: 0.1431\n",
            "Epoch 25/30\n",
            "1875/1875 [==============================] - 13s 7ms/step - loss: 0.1441 - val_loss: 0.1418\n",
            "Epoch 26/30\n",
            "1875/1875 [==============================] - 13s 7ms/step - loss: 0.1429 - val_loss: 0.1406\n",
            "Epoch 27/30\n",
            "1875/1875 [==============================] - 13s 7ms/step - loss: 0.1417 - val_loss: 0.1394\n",
            "Epoch 28/30\n",
            "1875/1875 [==============================] - 13s 7ms/step - loss: 0.1406 - val_loss: 0.1383\n",
            "Epoch 29/30\n",
            "1875/1875 [==============================] - 12s 7ms/step - loss: 0.1395 - val_loss: 0.1373\n",
            "Epoch 30/30\n",
            "1875/1875 [==============================] - 14s 7ms/step - loss: 0.1385 - val_loss: 0.1362\n"
          ]
        }
      ]
    },
    {
      "cell_type": "code",
      "source": [
        "type(history)"
      ],
      "metadata": {
        "colab": {
          "base_uri": "https://localhost:8080/"
        },
        "id": "Rl7OfZUpt8wR",
        "outputId": "01aa2626-bbb5-4fb1-8cfc-2f04ae8af545"
      },
      "execution_count": null,
      "outputs": [
        {
          "output_type": "execute_result",
          "data": {
            "text/plain": [
              "keras.callbacks.History"
            ]
          },
          "metadata": {},
          "execution_count": 28
        }
      ]
    },
    {
      "cell_type": "code",
      "source": [
        "type(history.history)"
      ],
      "metadata": {
        "colab": {
          "base_uri": "https://localhost:8080/"
        },
        "id": "1HOuSWy0wSyZ",
        "outputId": "c1646084-b456-455b-8c39-f15bc3365e50"
      },
      "execution_count": null,
      "outputs": [
        {
          "output_type": "execute_result",
          "data": {
            "text/plain": [
              "dict"
            ]
          },
          "metadata": {},
          "execution_count": 29
        }
      ]
    },
    {
      "cell_type": "code",
      "source": [
        "history.history.keys()"
      ],
      "metadata": {
        "colab": {
          "base_uri": "https://localhost:8080/"
        },
        "id": "-IV6C_aYv2Bo",
        "outputId": "463cf71f-9010-4bce-c312-b78a1de81f86"
      },
      "execution_count": null,
      "outputs": [
        {
          "output_type": "execute_result",
          "data": {
            "text/plain": [
              "dict_keys(['loss', 'val_loss'])"
            ]
          },
          "metadata": {},
          "execution_count": 34
        }
      ]
    },
    {
      "cell_type": "code",
      "source": [
        "plt.plot(history.history['loss'], label='loss')\n",
        "plt.plot(history.history['val_loss'], label='val_loss')\n",
        "\n",
        "plt.xlabel('epochs')\n",
        "plt.ylabel('error')\n",
        "plt.legend()\n",
        "plt.show()"
      ],
      "metadata": {
        "colab": {
          "base_uri": "https://localhost:8080/",
          "height": 282
        },
        "id": "Sg1RWUt8wjQA",
        "outputId": "4a0c5e82-40cc-4b48-ee90-e43b330a0639"
      },
      "execution_count": null,
      "outputs": [
        {
          "output_type": "display_data",
          "data": {
            "text/plain": [
              "<Figure size 432x288 with 1 Axes>"
            ],
            "image/png": "[encoded data removed]"
          },
          "metadata": {
            "needs_background": "light"
          }
        }
      ]
    },
    {
      "cell_type": "code",
      "source": [],
      "metadata": {
        "id": "kqvyjezLwXb9"
      },
      "execution_count": null,
      "outputs": []
    },
    {
      "cell_type": "code",
      "source": [
        "to_predict = X_test[:6]\n",
        "prediction = sparse_autoencoder.predict(to_predict)\n",
        "\n",
        "def visualize_predictions(predictions, data):\n",
        "    fig, axes = plt.subplots(2, predictions.shape[0], figsize = (predictions.shape[0]*5, 5))\n",
        "    for i, ax in zip(range(predictions.shape[0]), axes[0, :]):\n",
        "        ax.imshow(predictions[i], cmap = 'Greys')\n",
        "        ax.set_title(y_test[i])\n",
        "    for i, ax in zip(range(predictions.shape[0]), axes[1, :]):\n",
        "        ax.imshow(X_test[i], cmap = 'Greys')\n",
        "        ax.set_title(y_test[i])    \n",
        "    return plt\n",
        "\n",
        "visualize_predictions(prediction, to_predict)"
      ],
      "metadata": {
        "colab": {
          "base_uri": "https://localhost:8080/",
          "height": 301
        },
        "id": "wYksb3n0t9LW",
        "outputId": "5b32f21c-87ff-4aec-8bd0-19c60b36ffd5"
      },
      "execution_count": null,
      "outputs": [
        {
          "output_type": "stream",
          "name": "stdout",
          "text": [
            "1/1 [==============================] - 0s 203ms/step\n"
          ]
        },
        {
          "output_type": "execute_result",
          "data": {
            "text/plain": [
              "<module 'matplotlib.pyplot' from '/usr/local/lib/python3.8/dist-packages/matplotlib/pyplot.py'>"
            ]
          },
          "metadata": {},
          "execution_count": 33
        },
        {
          "output_type": "display_data",
          "data": {
            "text/plain": [
              "<Figure size 2160x360 with 12 Axes>"
            ],
            "image/png": "[encoded data removed]"
          },
          "metadata": {
            "needs_background": "light"
          }
        }
      ]
    },
    {
      "cell_type": "code",
      "source": [],
      "metadata": {
        "id": "fgGdAlDxxcwd"
      },
      "execution_count": null,
      "outputs": []
    },
    {
      "cell_type": "code",
      "source": [
        "from sklearn.manifold import TSNE\n",
        "\n",
        "# Select 1000 samples from data\n",
        "X_test_sampled = X_test[:1000, :]\n",
        "y_test_sampled = y_test[:1000]\n",
        "\n",
        "# Visualizing the Latent representation - Taking the average of the volume\n",
        "x_compressed = sparse_encoder.predict(X_test_sampled).mean(axis = -1).reshape(1000, -1)\n",
        "\n",
        "# Use TSNE\n",
        "tsne = TSNE(n_jobs=-1)\n",
        "X_compressed_2d  =  tsne.fit_transform(x_compressed)"
      ],
      "metadata": {
        "colab": {
          "base_uri": "https://localhost:8080/"
        },
        "id": "6J8ikVpYwbgw",
        "outputId": "3554e8f6-82cb-49f9-8752-8698ad7374ec"
      },
      "execution_count": null,
      "outputs": [
        {
          "output_type": "stream",
          "name": "stdout",
          "text": [
            "32/32 [==============================] - 0s 4ms/step\n"
          ]
        },
        {
          "output_type": "stream",
          "name": "stderr",
          "text": [
            "/usr/local/lib/python3.8/dist-packages/sklearn/manifold/_t_sne.py:780: FutureWarning: The default initialization in TSNE will change from 'random' to 'pca' in 1.2.\n",
            "  warnings.warn(\n",
            "/usr/local/lib/python3.8/dist-packages/sklearn/manifold/_t_sne.py:790: FutureWarning: The default learning rate in TSNE will change from 200.0 to 'auto' in 1.2.\n",
            "  warnings.warn(\n"
          ]
        }
      ]
    },
    {
      "cell_type": "code",
      "source": [
        "# Plot in scatterplot and color by digit name\n",
        "plt.figure(figsize = (12, 7))\n",
        "cmap = plt.get_cmap('RdBu', 10)\n",
        "sc = plt.scatter(X_compressed_2d[:, 0], X_compressed_2d[:, 1], c = y_test_sampled, alpha = .85, cmap = cmap)\n",
        "cax = plt.colorbar(sc, ticks=np.arange(0,10))\n",
        "plt.xlabel('tsne 1')\n",
        "plt.ylabel('tsne 2')\n",
        "#plt.colorbar(sc)"
      ],
      "metadata": {
        "colab": {
          "base_uri": "https://localhost:8080/",
          "height": 463
        },
        "id": "UeI_Bp1zxd-u",
        "outputId": "24541236-8134-4f71-f166-4a4bcc7abaea"
      },
      "execution_count": null,
      "outputs": [
        {
          "output_type": "execute_result",
          "data": {
            "text/plain": [
              "Text(0, 0.5, 'tsne 2')"
            ]
          },
          "metadata": {},
          "execution_count": 50
        },
        {
          "output_type": "display_data",
          "data": {
            "text/plain": [
              "<Figure size 864x504 with 2 Axes>"
            ],
            "image/png": "[encoded data removed]"
          },
          "metadata": {
            "needs_background": "light"
          }
        }
      ]
    },
    {
      "cell_type": "code",
      "source": [],
      "metadata": {
        "id": "kNGE1vRuxesC"
      },
      "execution_count": null,
      "outputs": []
    }
  ]
}